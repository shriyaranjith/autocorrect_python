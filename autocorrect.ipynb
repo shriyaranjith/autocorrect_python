{
  "nbformat": 4,
  "nbformat_minor": 0,
  "metadata": {
    "colab": {
      "provenance": []
    },
    "kernelspec": {
      "name": "python3",
      "display_name": "Python 3"
    },
    "language_info": {
      "name": "python"
    }
  },
  "cells": [
    {
      "cell_type": "code",
      "source": [
        "pip install textdistance"
      ],
      "metadata": {
        "colab": {
          "base_uri": "https://localhost:8080/"
        },
        "id": "Cx5DZv0JLDEF",
        "outputId": "7fd2eb67-39c0-457c-ff46-17a429e9ac58"
      },
      "execution_count": 1,
      "outputs": [
        {
          "output_type": "stream",
          "name": "stdout",
          "text": [
            "Collecting textdistance\n",
            "  Downloading textdistance-4.6.2-py3-none-any.whl (31 kB)\n",
            "Installing collected packages: textdistance\n",
            "Successfully installed textdistance-4.6.2\n"
          ]
        }
      ]
    },
    {
      "cell_type": "code",
      "source": [
        "import textdistance"
      ],
      "metadata": {
        "id": "p9fhbIuuLIPR"
      },
      "execution_count": 2,
      "outputs": []
    },
    {
      "cell_type": "code",
      "execution_count": 3,
      "metadata": {
        "colab": {
          "base_uri": "https://localhost:8080/"
        },
        "id": "GNZRS-sszeQN",
        "outputId": "350be7c4-ec30-4475-c4d9-41e5bfe174fd"
      },
      "outputs": [
        {
          "output_type": "stream",
          "name": "stdout",
          "text": [
            "['headword', 'cefr', 'am', 'am', 'abandon', 'abandoned', 'ability', 'able', 'abnormal', 'abnormally']\n",
            "There are 8666 unique words in the vocabulary.\n"
          ]
        }
      ],
      "source": [
        "import pandas as pd\n",
        "import numpy as np\n",
        "import re\n",
        "from collections import Counter\n",
        "words = []\n",
        "with open('//content/ENGLISH_CERF_WORDS.csv', 'r') as f:\n",
        "    file_name_data = f.read()\n",
        "    file_name_data=file_name_data.lower()\n",
        "    words = re.findall('[a-zA-Z]{2,}',file_name_data)\n",
        "# This is our vocabulary\n",
        "V = set(words)\n",
        "print(words[0:10])\n",
        "print(f\"There are {len(V)} unique words in the vocabulary.\")"
      ]
    },
    {
      "cell_type": "code",
      "source": [
        "words = words[2:]"
      ],
      "metadata": {
        "id": "eCRv2lCeLrgS"
      },
      "execution_count": 4,
      "outputs": []
    },
    {
      "cell_type": "code",
      "source": [
        "print(words[0:10])"
      ],
      "metadata": {
        "colab": {
          "base_uri": "https://localhost:8080/"
        },
        "id": "G_T7LWEcRERG",
        "outputId": "993a65d6-69c7-41ff-fabe-5edc508fce9c"
      },
      "execution_count": 5,
      "outputs": [
        {
          "output_type": "stream",
          "name": "stdout",
          "text": [
            "['am', 'am', 'abandon', 'abandoned', 'ability', 'able', 'abnormal', 'abnormally', 'aboard', 'abolish']\n"
          ]
        }
      ]
    },
    {
      "cell_type": "code",
      "source": [
        "word_freq_dict = {}\n",
        "word_freq_dict = Counter(words)\n",
        "print(word_freq_dict.most_common()[0:10])"
      ],
      "metadata": {
        "colab": {
          "base_uri": "https://localhost:8080/"
        },
        "id": "JDSug_kgRXsR",
        "outputId": "f823a138-352d-47e6-ac10-abb8c5f79106"
      },
      "execution_count": 6,
      "outputs": [
        {
          "output_type": "stream",
          "name": "stdout",
          "text": [
            "[('to', 15), ('in', 13), ('up', 10), ('well', 9), ('first', 8), ('self', 8), ('of', 7), ('law', 7), ('hand', 7), ('last', 7)]\n"
          ]
        }
      ]
    },
    {
      "cell_type": "code",
      "source": [
        "probs = {}\n",
        "Total = sum(word_freq_dict.values())\n",
        "for k in word_freq_dict.keys():\n",
        "    probs[k] = word_freq_dict[k]/Total"
      ],
      "metadata": {
        "id": "XYZY5WcCR7uo"
      },
      "execution_count": 7,
      "outputs": []
    },
    {
      "cell_type": "code",
      "source": [
        "keyboard_adjacency = {\n",
        "    'q': ['w', 'a', 's'],\n",
        "    'w': ['q', 'a', 's', 'e'],\n",
        "    'e': ['w', 's', 'd', 'r'],\n",
        "    'r': ['e', 'd', 'f', 't'],\n",
        "    't': ['r', 'f', 'g', 'y'],\n",
        "    'y': ['t', 'g', 'h', 'u'],\n",
        "    'u': ['y', 'h', 'j', 'i'],\n",
        "    'i': ['u', 'j', 'k', 'o'],\n",
        "    'o': ['i', 'k', 'l', 'p'],\n",
        "    'p': ['o', 'l'],\n",
        "    'a': ['q', 'w', 's', 'z'],\n",
        "    's': ['q', 'w', 'e', 'a', 'd', 'z', 'x'],\n",
        "    'd': ['e', 'r', 'f', 's', 'x', 'c'],\n",
        "    'f': ['r', 't', 'g', 'd', 'c', 'v'],\n",
        "    'g': ['t', 'y', 'h', 'f', 'v', 'b'],\n",
        "    'h': ['y', 'u', 'j', 'g', 'b', 'n'],\n",
        "    'j': ['u', 'i', 'k', 'h', 'n', 'm'],\n",
        "    'k': ['i', 'o', 'l', 'j', 'm'],\n",
        "    'l': ['o', 'p', 'k'],\n",
        "    'z': ['a', 's', 'x'],\n",
        "    'x': ['z', 's', 'd', 'c'],\n",
        "    'c': ['x', 'd', 'f', 'v'],\n",
        "    'v': ['c', 'f', 'g', 'b'],\n",
        "    'b': ['v', 'g', 'h', 'n'],\n",
        "    'n': ['b', 'h', 'j', 'm'],\n",
        "    'm': ['n', 'j', 'k']\n",
        "}"
      ],
      "metadata": {
        "id": "ukE2WRiljqU9"
      },
      "execution_count": 8,
      "outputs": []
    },
    {
      "cell_type": "code",
      "source": [
        "def my_autocorrect(input_word):\n",
        "    input_word = input_word.lower()\n",
        "    if input_word in V:\n",
        "        return(input_word)\n",
        "    else:\n",
        "        df = pd.DataFrame.from_dict(probs, orient = \"index\").reset_index()\n",
        "        df['Similarity'] = [1-(textdistance.Jaccard(qval=2).distance(v,input_word)) for v in word_freq_dict.keys()]\n",
        "        output = df.sort_values(['Similarity','index'], ascending = False).head(1)\n",
        "        autocorrect = output.iloc[0]['index']\n",
        "        return(f\"Did you mean {autocorrect}?\")"
      ],
      "metadata": {
        "id": "-VM1GFT_UFK1"
      },
      "execution_count": 9,
      "outputs": []
    },
    {
      "cell_type": "code",
      "source": [
        "my_autocorrect('plerk')"
      ],
      "metadata": {
        "colab": {
          "base_uri": "https://localhost:8080/",
          "height": 36
        },
        "id": "ZBY_FGlzZ3rx",
        "outputId": "38e395d7-1dbf-4c44-8073-b85165d1f86e"
      },
      "execution_count": 10,
      "outputs": [
        {
          "output_type": "execute_result",
          "data": {
            "text/plain": [
              "'Did you mean clerk?'"
            ],
            "application/vnd.google.colaboratory.intrinsic+json": {
              "type": "string"
            }
          },
          "metadata": {},
          "execution_count": 10
        }
      ]
    }
  ]
}